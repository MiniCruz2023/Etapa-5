{
 "cells": [
  {
   "cell_type": "code",
   "execution_count": 1,
   "id": "ee00c8e6-7432-4252-80d9-20e2ff5724fd",
   "metadata": {
    "tags": []
   },
   "outputs": [],
   "source": [
    "# Importa las bibliotecas necesarias\n",
    "import numpy as np\n",
    "import pandas as pd\n",
    "import matplotlib.pyplot as plt\n",
    "from sklearn.model_selection import train_test_split\n",
    "from sklearn.tree import DecisionTreeClassifier, plot_tree\n",
    "from sklearn.metrics import accuracy_score, classification_report, confusion_matrix\n",
    "from sklearn.utils import resample"
   ]
  },
  {
   "cell_type": "code",
   "execution_count": 4,
   "id": "c8a25eeb-92e4-46d6-ad1d-d5e053c4853f",
   "metadata": {
    "tags": []
   },
   "outputs": [
    {
     "data": {
      "text/html": [
       "<div>\n",
       "<style scoped>\n",
       "    .dataframe tbody tr th:only-of-type {\n",
       "        vertical-align: middle;\n",
       "    }\n",
       "\n",
       "    .dataframe tbody tr th {\n",
       "        vertical-align: top;\n",
       "    }\n",
       "\n",
       "    .dataframe thead th {\n",
       "        text-align: right;\n",
       "    }\n",
       "</style>\n",
       "<table border=\"1\" class=\"dataframe\">\n",
       "  <thead>\n",
       "    <tr style=\"text-align: right;\">\n",
       "      <th></th>\n",
       "      <th>clase</th>\n",
       "      <th>alcohol</th>\n",
       "      <th>acido_metalico</th>\n",
       "      <th>Ceniza</th>\n",
       "      <th>alcalinidad_de_la ceniza</th>\n",
       "      <th>magnesio</th>\n",
       "      <th>fenoles_totales</th>\n",
       "      <th>flavonoides</th>\n",
       "      <th>fenoles_no_flavonoides</th>\n",
       "      <th>proantocianidinas</th>\n",
       "      <th>intensidad_de_color</th>\n",
       "      <th>tono</th>\n",
       "      <th>OD280_OD315_de_vinos_diluidos</th>\n",
       "      <th>prolina</th>\n",
       "    </tr>\n",
       "  </thead>\n",
       "  <tbody>\n",
       "    <tr>\n",
       "      <th>0</th>\n",
       "      <td>1</td>\n",
       "      <td>14.23</td>\n",
       "      <td>1.71</td>\n",
       "      <td>2.43</td>\n",
       "      <td>15.6</td>\n",
       "      <td>127</td>\n",
       "      <td>2.80</td>\n",
       "      <td>3.06</td>\n",
       "      <td>0.28</td>\n",
       "      <td>2.29</td>\n",
       "      <td>5.64</td>\n",
       "      <td>1.04</td>\n",
       "      <td>3.92</td>\n",
       "      <td>1065</td>\n",
       "    </tr>\n",
       "    <tr>\n",
       "      <th>1</th>\n",
       "      <td>1</td>\n",
       "      <td>13.20</td>\n",
       "      <td>1.78</td>\n",
       "      <td>2.14</td>\n",
       "      <td>11.2</td>\n",
       "      <td>100</td>\n",
       "      <td>2.65</td>\n",
       "      <td>2.76</td>\n",
       "      <td>0.26</td>\n",
       "      <td>1.28</td>\n",
       "      <td>4.38</td>\n",
       "      <td>1.05</td>\n",
       "      <td>3.40</td>\n",
       "      <td>1050</td>\n",
       "    </tr>\n",
       "    <tr>\n",
       "      <th>2</th>\n",
       "      <td>1</td>\n",
       "      <td>13.16</td>\n",
       "      <td>2.36</td>\n",
       "      <td>2.67</td>\n",
       "      <td>18.6</td>\n",
       "      <td>101</td>\n",
       "      <td>2.80</td>\n",
       "      <td>3.24</td>\n",
       "      <td>0.30</td>\n",
       "      <td>2.81</td>\n",
       "      <td>5.68</td>\n",
       "      <td>1.03</td>\n",
       "      <td>3.17</td>\n",
       "      <td>1185</td>\n",
       "    </tr>\n",
       "    <tr>\n",
       "      <th>3</th>\n",
       "      <td>1</td>\n",
       "      <td>14.37</td>\n",
       "      <td>1.95</td>\n",
       "      <td>2.50</td>\n",
       "      <td>16.8</td>\n",
       "      <td>113</td>\n",
       "      <td>3.85</td>\n",
       "      <td>3.49</td>\n",
       "      <td>0.24</td>\n",
       "      <td>2.18</td>\n",
       "      <td>7.80</td>\n",
       "      <td>0.86</td>\n",
       "      <td>3.45</td>\n",
       "      <td>1480</td>\n",
       "    </tr>\n",
       "    <tr>\n",
       "      <th>4</th>\n",
       "      <td>1</td>\n",
       "      <td>13.24</td>\n",
       "      <td>2.59</td>\n",
       "      <td>2.87</td>\n",
       "      <td>21.0</td>\n",
       "      <td>118</td>\n",
       "      <td>2.80</td>\n",
       "      <td>2.69</td>\n",
       "      <td>0.39</td>\n",
       "      <td>1.82</td>\n",
       "      <td>4.32</td>\n",
       "      <td>1.04</td>\n",
       "      <td>2.93</td>\n",
       "      <td>735</td>\n",
       "    </tr>\n",
       "  </tbody>\n",
       "</table>\n",
       "</div>"
      ],
      "text/plain": [
       "   clase  alcohol  acido_metalico  Ceniza  alcalinidad_de_la ceniza  magnesio  \\\n",
       "0      1    14.23            1.71    2.43                      15.6       127   \n",
       "1      1    13.20            1.78    2.14                      11.2       100   \n",
       "2      1    13.16            2.36    2.67                      18.6       101   \n",
       "3      1    14.37            1.95    2.50                      16.8       113   \n",
       "4      1    13.24            2.59    2.87                      21.0       118   \n",
       "\n",
       "   fenoles_totales  flavonoides  fenoles_no_flavonoides  proantocianidinas  \\\n",
       "0             2.80         3.06                    0.28               2.29   \n",
       "1             2.65         2.76                    0.26               1.28   \n",
       "2             2.80         3.24                    0.30               2.81   \n",
       "3             3.85         3.49                    0.24               2.18   \n",
       "4             2.80         2.69                    0.39               1.82   \n",
       "\n",
       "   intensidad_de_color  tono  OD280_OD315_de_vinos_diluidos  prolina  \n",
       "0                 5.64  1.04                           3.92     1065  \n",
       "1                 4.38  1.05                           3.40     1050  \n",
       "2                 5.68  1.03                           3.17     1185  \n",
       "3                 7.80  0.86                           3.45     1480  \n",
       "4                 4.32  1.04                           2.93      735  "
      ]
     },
     "execution_count": 4,
     "metadata": {},
     "output_type": "execute_result"
    }
   ],
   "source": [
    "# Intenta leer el archivo CSV utilizando una codificación diferente, por ejemplo, 'latin1'\n",
    "data = pd.read_csv('D:/ejercios/ejercio1/unidad-5/wineV2.csv')\n",
    "data.head()"
   ]
  },
  {
   "cell_type": "code",
   "execution_count": 5,
   "id": "787b6280-181f-480c-9d85-0a1a1424f20e",
   "metadata": {
    "tags": []
   },
   "outputs": [],
   "source": [
    "# Manejo de datos desbalanceados (ejemplo de sobremuestreo de la clase minoritaria)\n",
    "class_1 = data[data['clase'] == 1]\n",
    "class_2 = data[data['clase'] == 2]\n",
    "class_3 = data[data['clase'] == 3]"
   ]
  },
  {
   "cell_type": "code",
   "execution_count": 6,
   "id": "b3bfbf15-1033-4bf2-8335-2d602ce0d535",
   "metadata": {
    "tags": []
   },
   "outputs": [],
   "source": [
    "class_2_upsampled = resample(class_2, replace=True, n_samples=len(class_1), random_state=42)\n",
    "class_3_upsampled = resample(class_3, replace=True, n_samples=len(class_1), random_state=42)\n"
   ]
  },
  {
   "cell_type": "code",
   "execution_count": 7,
   "id": "d99614bc-1312-450f-a5e3-39fcef57e9df",
   "metadata": {
    "tags": []
   },
   "outputs": [],
   "source": [
    "data_upsampled = pd.concat([class_1, class_2_upsampled, class_3_upsampled])"
   ]
  },
  {
   "cell_type": "code",
   "execution_count": 10,
   "id": "6970ae94-0c77-4e99-9b4b-e70458cc794e",
   "metadata": {
    "tags": []
   },
   "outputs": [],
   "source": [
    "# Definir las columnas de predictores y objetivo\n",
    "predictors_col = [\"alcohol\", \"acido_metalico\", \"Ceniza\", \"alcalinidad_de_la ceniza\", \"magnesio\", \"fenoles_totales\", \"flavonoides\", \"fenoles_no_flavonoides\", \"proantocianidinas\", \"intensidad_de_color\", \"tono\", \"OD280_OD315_de_vinos_diluidos\", \"prolina\"]\n",
    "target_col = ['clase']\n",
    "\n",
    "# Resto del código...\n",
    "\n",
    "# Normalización de datos\n",
    "data_upsampled[predictors_col] = (data_upsampled[predictors_col] - data_upsampled[predictors_col].mean()) / data_upsampled[predictors_col].std()"
   ]
  },
  {
   "cell_type": "code",
   "execution_count": 11,
   "id": "59ac8d3d-dbf5-408d-aebf-d508ab27a14b",
   "metadata": {
    "tags": []
   },
   "outputs": [],
   "source": [
    "predictors = data_upsampled[predictors_col]\n",
    "target = data_upsampled[target_col]\n"
   ]
  },
  {
   "cell_type": "code",
   "execution_count": 12,
   "id": "38b2af16-ce39-4eb8-ae11-967c4d6be0f7",
   "metadata": {
    "tags": []
   },
   "outputs": [],
   "source": [
    "X_train, X_test, y_train, y_test = train_test_split(predictors, target, test_size=0.2, random_state=13)"
   ]
  },
  {
   "cell_type": "code",
   "execution_count": 13,
   "id": "4705bd90-7e89-4950-8375-9151b4043624",
   "metadata": {
    "tags": []
   },
   "outputs": [],
   "source": [
    "# Ajuste de hiperparámetros (ajusta según sea necesario)\n",
    "tree = DecisionTreeClassifier(max_depth=3, min_samples_split=5, min_samples_leaf=5, random_state=13)"
   ]
  },
  {
   "cell_type": "code",
   "execution_count": 14,
   "id": "7a10ea95-3235-4c1f-a05e-cf4c14ec4181",
   "metadata": {
    "tags": []
   },
   "outputs": [],
   "source": [
    "arbol = tree.fit(X_train, y_train)"
   ]
  },
  {
   "cell_type": "code",
   "execution_count": 15,
   "id": "8ff23d82-49c8-4b34-8324-5280b902e35e",
   "metadata": {
    "tags": []
   },
   "outputs": [
    {
     "data": {
      "image/png": "[encoded data removed]",
      "text/plain": [
       "<Figure size 1000x600 with 1 Axes>"
      ]
     },
     "metadata": {},
     "output_type": "display_data"
    }
   ],
   "source": [
    "# Visualización del árbol\n",
    "plt.figure(figsize=(10, 6))\n",
    "plot_tree(arbol, filled=True, feature_names=predictors_col, class_names=['1', '2', '3'])\n",
    "plt.show()"
   ]
  },
  {
   "cell_type": "code",
   "execution_count": 16,
   "id": "a9e2cf91-6579-40e2-b885-8805015a8977",
   "metadata": {
    "tags": []
   },
   "outputs": [],
   "source": [
    "# Predicciones\n",
    "predicciones = arbol.predict(X_test)"
   ]
  },
  {
   "cell_type": "code",
   "execution_count": 17,
   "id": "20619e35-b0e2-4d5d-8617-c42e78e3e026",
   "metadata": {
    "tags": []
   },
   "outputs": [
    {
     "name": "stdout",
     "output_type": "stream",
     "text": [
      "Matriz de Confusión:\n",
      "[[12  0  0]\n",
      " [ 0 12  0]\n",
      " [ 0  1 11]]\n"
     ]
    }
   ],
   "source": [
    "# Examinamos la matriz de confusión\n",
    "conf_matrix = confusion_matrix(np.array([y[0] for y in y_test.values.tolist()]), predicciones)\n",
    "print(\"Matriz de Confusión:\")\n",
    "print(conf_matrix)"
   ]
  },
  {
   "cell_type": "code",
   "execution_count": 18,
   "id": "88dbca85-9285-431e-9b57-0f37a35bbc87",
   "metadata": {
    "tags": []
   },
   "outputs": [
    {
     "name": "stdout",
     "output_type": "stream",
     "text": [
      "\n",
      "Reporte de Clasificación:\n",
      "              precision    recall  f1-score   support\n",
      "\n",
      "           1       1.00      1.00      1.00        12\n",
      "           2       0.92      1.00      0.96        12\n",
      "           3       1.00      0.92      0.96        12\n",
      "\n",
      "    accuracy                           0.97        36\n",
      "   macro avg       0.97      0.97      0.97        36\n",
      "weighted avg       0.97      0.97      0.97        36\n",
      "\n"
     ]
    }
   ],
   "source": [
    "# Métricas de clasificación\n",
    "print(\"\\nReporte de Clasificación:\")\n",
    "print(classification_report(np.array([y[0] for y in y_test.values.tolist()]), predicciones))"
   ]
  },
  {
   "cell_type": "code",
   "execution_count": 19,
   "id": "c2ba8634-cb41-4730-80aa-6862c62d5ed5",
   "metadata": {
    "tags": []
   },
   "outputs": [
    {
     "name": "stdout",
     "output_type": "stream",
     "text": [
      "\n",
      "Accuracy: 0.9722222222222222\n"
     ]
    }
   ],
   "source": [
    "# Accuracy\n",
    "accuracy = accuracy_score(y_test, predicciones)\n",
    "print(\"\\nAccuracy:\", accuracy)"
   ]
  },
  {
   "cell_type": "code",
   "execution_count": null,
   "id": "ed323ef1-93ae-4f12-80a6-018d4b99fdf8",
   "metadata": {},
   "outputs": [],
   "source": [
    "# codigo reutilizado de la etapa-1"
   ]
  }
 ],
 "metadata": {
  "kernelspec": {
   "display_name": "Python 3 (ipykernel)",
   "language": "python",
   "name": "python3"
  },
  "language_info": {
   "codemirror_mode": {
    "name": "ipython",
    "version": 3
   },
   "file_extension": ".py",
   "mimetype": "text/x-python",
   "name": "python",
   "nbconvert_exporter": "python",
   "pygments_lexer": "ipython3",
   "version": "3.11.5"
  }
 },
 "nbformat": 4,
 "nbformat_minor": 5
}
